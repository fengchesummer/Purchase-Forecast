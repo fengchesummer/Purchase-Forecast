{
 "cells": [
  {
   "cell_type": "code",
   "execution_count": 1,
   "metadata": {},
   "outputs": [],
   "source": [
    "import numpy as np\n",
    "import pandas as pd\n",
    "from pandas import DataFrame\n",
    "import xgboost as xgb\n",
    "from sklearn.model_selection import ShuffleSplit\n",
    "from sklearn.metrics import f1_score\n",
    "import sys\n",
    "import scipy as sp\n",
    "from sklearn.metrics import roc_curve\n",
    "from sklearn import metrics\n",
    "from sklearn.model_selection import StratifiedKFold"
   ]
  },
  {
   "cell_type": "code",
   "execution_count": 2,
   "metadata": {},
   "outputs": [],
   "source": [
    "#读入预处理后的数据\n",
    "all_train = pd.read_csv('all_train.csv',sep = '\\t')\n",
    "test_set = pd.read_csv('test_set.csv',sep = '\\t')"
   ]
  },
  {
   "cell_type": "code",
   "execution_count": 3,
   "metadata": {},
   "outputs": [],
   "source": [
    "#定义xgboost模型\n",
    "def xgb_model(train_set_x,train_set_y,test_set_x):\n",
    "    # 模型参数\n",
    "    params = {'booster': 'gbtree',\n",
    "              'objective':'binary:logistic',\n",
    "              'eta': 0.01, #0.02\n",
    "              'max_depth': 5,  # 4 3\n",
    "              'colsample_bytree': 0.7,#0.8\n",
    "              'subsample': 0.7,\n",
    "              'min_child_weight': 9,  # 2 3\n",
    "              'silent':1\n",
    "              }\n",
    "    dtrain = xgb.DMatrix(train_set_x, label=train_set_y)\n",
    "    dvali = xgb.DMatrix(test_set_x)\n",
    "    model = xgb.train(params, dtrain, num_boost_round=800)\n",
    "    xgb.plot_importance(model)\n",
    "    predict = model.predict(dvali)\n",
    "    return predict"
   ]
  },
  {
   "cell_type": "code",
   "execution_count": 4,
   "metadata": {},
   "outputs": [],
   "source": [
    "#线下为True，线上提交为Ture\n",
    "OFF_LINE = True"
   ]
  },
  {
   "cell_type": "code",
   "execution_count": 5,
   "metadata": {},
   "outputs": [
    {
     "name": "stdout",
     "output_type": "stream",
     "text": [
      "Train: [    1     2     4 ... 79995 79996 79997] | test: [    0     3    11 ... 79989 79998 79999]\n",
      "[0.00434119 0.6025483  0.02001854 ... 0.06857971 0.01875654 0.0127498 ]\n",
      "[0 0 0 ... 0 0 0]\n",
      "auc value: 0.8594822628410972\n",
      "Train: [    0     1     2 ... 79997 79998 79999] | test: [    9    10    14 ... 79983 79986 79993]\n",
      "[0.00735165 0.00394151 0.00457977 ... 0.03798921 0.17798391 0.00655987]\n",
      "[0 0 0 ... 0 0 0]\n",
      "auc value: 0.8488798809032697\n",
      "Train: [    0     1     2 ... 79997 79998 79999] | test: [    5    13    20 ... 79992 79994 79996]\n",
      "[0.13988204 0.02074813 0.03683876 ... 0.00525732 0.08249502 0.02808336]\n",
      "[0 0 0 ... 0 0 0]\n",
      "auc value: 0.8504618585546965\n",
      "Train: [    0     1     2 ... 79996 79998 79999] | test: [    4     7    16 ... 79988 79991 79997]\n",
      "[0.00285079 0.00423299 0.0121091  ... 0.05964969 0.02129328 0.00414714]\n",
      "[0 0 0 ... 0 0 0]\n",
      "auc value: 0.8651734820163426\n",
      "Train: [    0     3     4 ... 79997 79998 79999] | test: [    1     2     6 ... 79979 79990 79995]\n",
      "[0.0448336  0.01456433 0.07772837 ... 0.03020816 0.05528628 0.03125471]\n",
      "[0 0 0 ... 0 0 0]\n",
      "auc value: 0.8421584766106266\n",
      "validate result: 0.8532311921852065\n"
     ]
    },
    {
     "ename": "SystemExit",
     "evalue": "32",
     "output_type": "error",
     "traceback": [
      "An exception has occurred, use %tb to see the full traceback.\n",
      "\u001b[1;31mSystemExit\u001b[0m\u001b[1;31m:\u001b[0m 32\n"
     ]
    },
    {
     "name": "stderr",
     "output_type": "stream",
     "text": [
      "E:\\Anaconda\\lib\\site-packages\\IPython\\core\\interactiveshell.py:2918: UserWarning: To exit: use 'exit', 'quit', or Ctrl-D.\n",
      "  warn(\"To exit: use 'exit', 'quit', or Ctrl-D.\", stacklevel=1)\n"
     ]
    }
   ],
   "source": [
    "if OFF_LINE == True:    \n",
    "    train_x = all_train.drop(['USRID', 'FLAG'], axis=1).values\n",
    "    train_y = all_train['FLAG'].values\n",
    "    auc_list = []\n",
    "    \n",
    "    #K折交叉验证函数\n",
    "    skf = StratifiedKFold(n_splits=5, shuffle=True, random_state=3)\n",
    "    \n",
    "    for train_index, test_index in skf.split(train_x, train_y):\n",
    "        print('Train: %s | test: %s' % (train_index, test_index))\n",
    "        X_train, X_test = train_x[train_index], train_x[test_index]\n",
    "        y_train, y_test = train_y[train_index], train_y[test_index]\n",
    "    \n",
    "        pred_value = xgb_model(X_train, y_train, X_test)\n",
    "        print(pred_value)\n",
    "        print(y_test)\n",
    "    \n",
    "        pred_value = np.array(pred_value)\n",
    "        pred_value = [ele + 1 for ele in pred_value]\n",
    "    \n",
    "        y_test = np.array(y_test)\n",
    "        y_test = [ele + 1 for ele in y_test]\n",
    "    \n",
    "        #计算roc值\n",
    "        fpr, tpr, thresholds = roc_curve(y_test, pred_value, pos_label=2)\n",
    "            \n",
    "        auc = metrics.auc(fpr, tpr)\n",
    "        print('auc value:',auc)\n",
    "        auc_list.append(auc)\n",
    "    \n",
    "    print('validate result:',np.mean(auc_list))\n",
    "    sys.exit(32)"
   ]
  },
  {
   "cell_type": "code",
   "execution_count": 6,
   "metadata": {},
   "outputs": [
    {
     "name": "stderr",
     "output_type": "stream",
     "text": [
      "E:\\Anaconda\\lib\\site-packages\\ipykernel_launcher.py:9: SettingWithCopyWarning: \n",
      "A value is trying to be set on a copy of a slice from a DataFrame.\n",
      "Try using .loc[row_indexer,col_indexer] = value instead\n",
      "\n",
      "See the caveats in the documentation: http://pandas.pydata.org/pandas-docs/stable/indexing.html#indexing-view-versus-copy\n",
      "  if __name__ == '__main__':\n"
     ]
    },
    {
     "data": {
      "image/png": "[encoded data removed]",
      "text/plain": [
       "<matplotlib.figure.Figure at 0x25198813160>"
      ]
     },
     "metadata": {},
     "output_type": "display_data"
    }
   ],
   "source": [
    "\n",
    "result_name = test_set[['USRID']]\n",
    "train_x = all_train.drop(['USRID', 'FLAG'], axis=1).values\n",
    "train_y = all_train['FLAG'].values\n",
    "test_x = test_set.drop(['USRID'], axis=1).values\n",
    "    \n",
    "pred_result = xgb_model(train_x,train_y,test_x)\n",
    "    \n",
    "result_name['RST'] = pred_result\n",
    "result_name.to_csv('test_result.csv',index=None,sep='\\t')"
   ]
  },
  {
   "cell_type": "code",
   "execution_count": null,
   "metadata": {},
   "outputs": [],
   "source": []
  }
 ],
 "metadata": {
  "kernelspec": {
   "display_name": "Python 3",
   "language": "python",
   "name": "python3"
  },
  "language_info": {
   "codemirror_mode": {
    "name": "ipython",
    "version": 3
   },
   "file_extension": ".py",
   "mimetype": "text/x-python",
   "name": "python",
   "nbconvert_exporter": "python",
   "pygments_lexer": "ipython3",
   "version": "3.6.4"
  }
 },
 "nbformat": 4,
 "nbformat_minor": 2
}
